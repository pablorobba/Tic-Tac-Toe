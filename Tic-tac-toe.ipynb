{
 "cells": [
  {
   "cell_type": "markdown",
   "metadata": {},
   "source": [
    "Tu tarea es escribir un simple programa que simule jugar a tic-tac-toe (nombre en inglés) con el usuario. Para hacerlo más fácil, hemos decidido simplificar el juego. Aquí están nuestras reglas:"
   ]
  },
  {
   "cell_type": "markdown",
   "metadata": {},
   "source": [
    "- la maquina (por ejemplo, el programa) jugará utilizando las 'X's;\n",
    "- el usuario (por ejemplo, tu) jugarás utilizando las 'O's;\n",
    "- el primer movimiento es de la maquina - siempre coloca una 'X' en el centro del tablero;\n",
    "- todos los cuadros están numerados comenzando con el 1 (observa el ejemplo para que tengas una referencia)\n",
    "el usuario ingresa su movimiento introduciendo el número de cuadro elegido - el número debe de ser valido, por ejemplo un valor entero mayor que 0 y menor que 10, y no puede ser un cuadro que ya esté ocupado;\n",
    "- el programa verifica si el juego ha terminado - existen cuatro posibles veredictos: el juego continua, el juego termina en empate, tu ganas, o la maquina gana;\n",
    "- la maquina responde con su movimiento y se verifica el estado del juego;\n",
    "no se debe implementar algún tipo de inteligencia artificial - la maquina elegirá un cuadro de manera aleatoria, eso es suficiente para este juego."
   ]
  },
  {
   "cell_type": "markdown",
   "metadata": {},
   "source": [
    "El ejemplo del programa es el siguiente:"
   ]
  },
  {
   "cell_type": "code",
   "execution_count": 1,
   "metadata": {},
   "outputs": [
    {
     "name": "stdout",
     "output_type": "stream",
     "text": [
      "6\n",
      "4\n",
      "6\n",
      "6\n",
      "6\n",
      "1\n",
      "7\n",
      "0\n",
      "4\n",
      "4\n"
     ]
    }
   ],
   "source": [
    "from random import randrange\n",
    "\n",
    "def display_board(board):\n",
    "    \n",
    "    \"\"\"La función acepta un parámetro el cual contiene el estado actual del tablero\n",
    "    y lo muestra en la consola.\"\"\"\n",
    "    \n",
    "    for i in range(3):\n",
    "    print(\"+-------\" * 3,\"+\",sep=\"\")\n",
    "    for i in range(3):\n",
    "        print(\"|       \" * 3,\"|\", sep=\"\")\n",
    "    print(\"+-------\" * 3,\"+\",sep=\"\")\n",
    "\n",
    "def enter_move(board):\n",
    "    \"\"\" La función acepta el estado actual del tablero y pregunta al usuario acerca de su movimiento,  \n",
    "     verifica la entrada y actualiza el tablero acorde a la decisión del usuario. \"\"\"\n",
    "    \n",
    "    \n",
    "\n",
    "\n",
    "def make_list_of_free_fields(board):\n",
    "    # La función examina el tablero y construye una lista de todos los cuadros vacíos. \n",
    "    # La lista esta compuesta por tuplas, cada tupla es un par de números que indican la fila y columna.\n",
    "\n",
    "\n",
    "def victory_for(board, sign):\n",
    "    # La función analiza el estatus del tablero para verificar si \n",
    "    # el jugador que utiliza las 'O's o las 'X's ha ganado el juego.\n",
    "\n",
    "\n",
    "def draw_move(board):\n",
    "    # La función dibuja el movimiento de la máquina y actualiza el tablero.\n",
    "    \n",
    "class TicTacToe(object):\n",
    "    def __init__(self):\n",
    "        self.board =  [ [3 * j + i + 1 for i in range(3)] for j in range(3) ]"
   ]
  },
  {
   "cell_type": "code",
   "execution_count": 93,
   "metadata": {},
   "outputs": [
    {
     "name": "stdout",
     "output_type": "stream",
     "text": [
      "+-------+-------+-------+\n",
      "|       |       |       |\n",
      "|   1   |   2   |   3   |\n",
      "|       |       |       |\n",
      "+-------+-------+-------+\n",
      "|       |       |       |\n",
      "|   4   |   5   |   6   |\n",
      "|       |       |       |\n",
      "+-------+-------+-------+\n",
      "|       |       |       |\n",
      "|   7   |   8   |   9   |\n",
      "|       |       |       |\n",
      "+-------+-------+-------+\n"
     ]
    }
   ],
   "source": [
    "from random import randrange\n",
    "\n",
    "\n",
    "def display_board(board):\n",
    "    \n",
    "    \"\"\"La función acepta un parámetro el cual contiene el estado actual del tablero\n",
    "    y lo muestra en la consola.\n",
    "    \"\"\"        \n",
    "    print(\"+-------\" * 3,\"+\",sep=\"\")\n",
    "    for i in range(3):\n",
    "        print(\"|       \" * 3,\"|\", sep=\"\")\n",
    "        for j in range(3):\n",
    "            print(\"|   \" + str(board[i][j]) + \"   \", end = \"\")\n",
    "        print(\"|\")\n",
    "        print(\"|       \" * 3,\"|\", sep=\"\")\n",
    "        print(\"+-------\" * 3,\"+\",sep=\"\")\n",
    "\n",
    "def enter_move(board):\n",
    "    \n",
    "    \"\"\" La función acepta el estado actual del tablero y pregunta al usuario acerca de su movimiento,  \n",
    "    verifica la entrada y actualiza el tablero acorde a la decisión del usuario. \n",
    "    \"\"\"\n",
    "    continuar = True\n",
    "    while continuar:\n",
    "        movimiento = int(input(\"haga su movimiento\"))\n",
    "        if movimiento > 9 or movimiento < 1:\n",
    "            print(\"Ingrese un numero entre 1 y 9\")\n",
    "        else:\n",
    "            posicion_ocupada = True\n",
    "            for i in range(len(board)):\n",
    "                for j in range(len(board[0])):\n",
    "                    if board[i][j] == movimiento:  # Convierte movimiento a cadena para la comparación\n",
    "                        board[i][j] = \"O\"\n",
    "                        continuar = False\n",
    "                        posicion_ocupada = False\n",
    "                        break\n",
    "            if  posicion_ocupada:\n",
    "                print(\"Posición ya seleccionada, haga su movimiento otra vez\")   \n",
    "                \n",
    "def make_list_of_free_fields(board):\n",
    "    \n",
    "    \"\"\" La función examina el tablero y construye una lista de todos los cuadros vacíos. \n",
    "    La lista esta compuesta por tuplas, cada tupla es un par de números que indican la fila y columna.\n",
    "    \"\"\"\n",
    "    vacios = []\n",
    "    for i in range(len(board)):\n",
    "        for j in range(len(board[0])):\n",
    "            if board[i][j] != \"O\" and board[i][j] != \"X\":\n",
    "                vacios.append((i,j))\n",
    "    return vacios\n",
    "\n",
    "def victory_for(board, sign):\n",
    "                \n",
    "        if sign == \"X\":\n",
    "            who = \"machine\"\n",
    "        if sign == \"O\":\n",
    "            who = \"me\"\n",
    "        diagonal1 = diagonal2 = True\n",
    "        for i in range(3):\n",
    "            if board[i][0] == sign and board[i][1] == sign and board[i][2] == sign: #filas\n",
    "                return who\n",
    "            if board[0][i] == sign and board[1][i] == sign and board[2][i] == sign: #columnas\n",
    "                return who\n",
    "            if board[i][2-i] != sign:\n",
    "                diagonal2 = False\n",
    "            if board [i][i] != sign:\n",
    "                diagonal1 = False\n",
    "\n",
    "        if diagonal1 or diagonal2:\n",
    "            return who\n",
    "        return None  \n",
    "    \n",
    "    \n",
    "def draw_move(board):\n",
    "    \n",
    "    \"\"\" La función dibuja el movimiento de la máquina y actualiza el tablero. \n",
    "    \"\"\"\n",
    "    continuar = True \n",
    "            \n",
    "    if board[1][1] == 5:\n",
    "        board[1][1] = \"X\"\n",
    "    else:\n",
    "        while continuar:\n",
    "            movimiento = randrange(10) \n",
    "            for i in range(len(board)):\n",
    "                for j in range(len(board[0])):\n",
    "                    if board[i][j] == movimiento:  # Convierte movimiento a cadena para la comparación\n",
    "                        board[i][j] = \"X\"\n",
    "                        continuar = False        \n",
    "def main():\n",
    "    board = [ [3 * j + i + 1 for i in range(3)] for j in range(3) ]\n",
    "    libres = make_list_of_free_fields(board)\n",
    "    victoria = victoria2 = None\n",
    "    while True:\n",
    "        draw_move(board)\n",
    "        libres = make_list_of_free_fields(board)\n",
    "        display_board(board)\n",
    "        victoria = victory_for(board, \"X\")        \n",
    "        if victoria != None :\n",
    "            print(\"perdiste\")\n",
    "            break\n",
    "        if libres == []:\n",
    "            print(\"juego terminado, no quedan más movimientos\")\n",
    "            break\n",
    "        enter_move(board)\n",
    "        victoria2 = victory_for(board, \"O\")\n",
    "        if victoria2 != None :\n",
    "            display_board(board)\n",
    "            print(\"ganaste\")\n",
    "            break\n",
    "\n",
    "main()"
   ]
  },
  {
   "cell_type": "code",
   "execution_count": 100,
   "metadata": {},
   "outputs": [
    {
     "data": {
      "text/plain": [
       "[[1, 2, 3], [4, 5, 6], [7, 8, 9]]"
      ]
     },
     "execution_count": 100,
     "metadata": {},
     "output_type": "execute_result"
    }
   ],
   "source": [
    "board = [ [3 * j + i + 1 for i in range(3)] for j in range(3) ]\n",
    "board"
   ]
  },
  {
   "cell_type": "code",
   "execution_count": 55,
   "metadata": {},
   "outputs": [
    {
     "data": {
      "text/plain": [
       "[[1, 2, 3], [4, 5, 6], [7, 8, 9]]"
      ]
     },
     "execution_count": 55,
     "metadata": {},
     "output_type": "execute_result"
    }
   ],
   "source": [
    "if board[1][1] == 5:\n",
    "    board[1][1] = \"X\"\n",
    "board"
   ]
  },
  {
   "cell_type": "code",
   "execution_count": 102,
   "metadata": {},
   "outputs": [],
   "source": [
    "board = [[1,2,\"X\"], [4,\"X\",6], [5, 8, 9]]"
   ]
  },
  {
   "cell_type": "code",
   "execution_count": 103,
   "metadata": {},
   "outputs": [
    {
     "name": "stdout",
     "output_type": "stream",
     "text": [
      "None\n"
     ]
    }
   ],
   "source": [
    "print(victory_for(board,\"X\"))"
   ]
  },
  {
   "cell_type": "code",
   "execution_count": 75,
   "metadata": {},
   "outputs": [],
   "source": [
    "def victory_for(board, sign):\n",
    "            \n",
    "    if sign == \"X\":\n",
    "        who = \"machine\"\n",
    "    if sign == \"O\":\n",
    "        who = \"me\"\n",
    "    diagonal = False\n",
    "    for i in range(3):\n",
    "        if board[i][0] == sign and board[i][1] == sign and board[i][2] == sign: #filas\n",
    "            return who\n",
    "        if board[0][i] == sign and board[1][i] == sign and board[2][i] == sign: #columnas\n",
    "            return who\n",
    "        if board[i][2-i] == sign:\n",
    "            diagonal = True\n",
    "    if board[0][0] == sign and board[1][1] == sign and board[2][2] == sign: #diagonal1\n",
    "        diagonal = True\n",
    "    if diagonal:\n",
    "        return who\n",
    "    return None    "
   ]
  },
  {
   "cell_type": "code",
   "execution_count": 102,
   "metadata": {},
   "outputs": [],
   "source": [
    "def victory_for(board, sign):\n",
    "                \n",
    "        if sign == \"X\":\n",
    "            who = \"machine\"\n",
    "        if sign == \"O\":\n",
    "            who = \"me\"\n",
    "        diagonal1 = diagonal2 = True\n",
    "        for i in range(3):\n",
    "            if board[i][0] == sign and board[i][1] == sign and board[i][2] == sign: #filas\n",
    "                return who\n",
    "            if board[0][i] == sign and board[1][i] == sign and board[2][i] == sign: #columnas\n",
    "                return who\n",
    "            if board[i][2-i] != sign:\n",
    "                diagonal2 = False\n",
    "            if board [i][i] != sign:\n",
    "                diagonal1 = False\n",
    "\n",
    "        if diagonal1 or diagonal2:\n",
    "            return who\n",
    "        return None  "
   ]
  },
  {
   "cell_type": "code",
   "execution_count": 103,
   "metadata": {},
   "outputs": [],
   "source": [
    "board = [[\"X\", 2, 3], [4, \"X\", 6], [7, 8, \"X\"]]"
   ]
  },
  {
   "cell_type": "code",
   "execution_count": 105,
   "metadata": {},
   "outputs": [
    {
     "data": {
      "text/plain": [
       "'machine'"
      ]
     },
     "execution_count": 105,
     "metadata": {},
     "output_type": "execute_result"
    }
   ],
   "source": [
    "victory_for(board,\"X\")"
   ]
  },
  {
   "cell_type": "code",
   "execution_count": 14,
   "metadata": {},
   "outputs": [
    {
     "name": "stdout",
     "output_type": "stream",
     "text": [
      "[(0, 1), (0, 2), (1, 0), (1, 1), (1, 2), (2, 0), (2, 1), (2, 2)]\n"
     ]
    }
   ],
   "source": [
    "vacios = []\n",
    "for i in range(len(board)):\n",
    "    for j in range(len(board[0])):\n",
    "        if board[i][j] != \"O\" and board[i][j] != \"X\":\n",
    "            vacios.append((i,j))\n",
    "return vacios"
   ]
  },
  {
   "cell_type": "code",
   "execution_count": 13,
   "metadata": {},
   "outputs": [
    {
     "data": {
      "text/plain": [
       "[(0, 1), (0, 2), (1, 0), (1, 1), (1, 2), (2, 0), (2, 1), (2, 2)]"
      ]
     },
     "execution_count": 13,
     "metadata": {},
     "output_type": "execute_result"
    }
   ],
   "source": [
    "free = []\n",
    "for row in range(3): # itera a través de las filas\n",
    "\tfor col in range(3): # iitera a través de las columnas\n",
    "\t\tif board[row][col] not in ['O','X']: # ¿Está la celda libre?\n",
    "\t\t\tfree.append((row,col)) # si, agrega una nueva tupla a la lista\n",
    "free"
   ]
  },
  {
   "cell_type": "code",
   "execution_count": 3,
   "metadata": {},
   "outputs": [
    {
     "name": "stdout",
     "output_type": "stream",
     "text": [
      "[['O', 2, 3], [4, 5, 6], [7, 8, 9]]\n"
     ]
    }
   ],
   "source": [
    "continuar = True\n",
    "while continuar:\n",
    "    movimiento = int(input(\"haga su movimiento\"))\n",
    "    if movimiento > 9 or movimiento < 1:\n",
    "        print(\"Ingrese un numero entre 1 y 9\")\n",
    "    else:\n",
    "        posicion_ocupada = True\n",
    "        for i in range(len(board)):\n",
    "            for j in range(len(board[0])):\n",
    "                if board[i][j] == movimiento:  # Convierte movimiento a cadena para la comparación\n",
    "                    board[i][j] = \"O\"\n",
    "                    continuar = False\n",
    "                    posicion_ocupada = False\n",
    "                    break\n",
    "        if  posicion_ocupada:\n",
    "            print(\"Posición ya seleccionada, haga su movimiento otra vez\")\n",
    "print(board)\n"
   ]
  },
  {
   "cell_type": "code",
   "execution_count": 47,
   "metadata": {},
   "outputs": [
    {
     "name": "stdout",
     "output_type": "stream",
     "text": [
      "0\n",
      "1\n",
      "2\n"
     ]
    }
   ],
   "source": [
    "for i in range(len(board)):\n",
    "    print(i)\n",
    "board[0][0] = \"x\""
   ]
  }
 ],
 "metadata": {
  "kernelspec": {
   "display_name": "Python 3",
   "language": "python",
   "name": "python3"
  },
  "language_info": {
   "codemirror_mode": {
    "name": "ipython",
    "version": 3
   },
   "file_extension": ".py",
   "mimetype": "text/x-python",
   "name": "python",
   "nbconvert_exporter": "python",
   "pygments_lexer": "ipython3",
   "version": "3.11.0"
  }
 },
 "nbformat": 4,
 "nbformat_minor": 2
}
