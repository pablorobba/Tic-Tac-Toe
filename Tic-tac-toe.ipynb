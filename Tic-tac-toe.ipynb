{
 "cells": [
  {
   "cell_type": "markdown",
   "metadata": {},
   "source": [
    "Tu tarea es escribir un simple programa que simule jugar a tic-tac-toe (nombre en inglés) con el usuario. Para hacerlo más fácil, hemos decidido simplificar el juego. Aquí están nuestras reglas:"
   ]
  },
  {
   "cell_type": "markdown",
   "metadata": {},
   "source": [
    "- la maquina (por ejemplo, el programa) jugará utilizando las 'X's;\n",
    "- el usuario (por ejemplo, tu) jugarás utilizando las 'O's;\n",
    "- el primer movimiento es de la maquina - siempre coloca una 'X' en el centro del tablero;\n",
    "- todos los cuadros están numerados comenzando con el 1 (observa el ejemplo para que tengas una referencia)\n",
    "el usuario ingresa su movimiento introduciendo el número de cuadro elegido - el número debe de ser valido, por ejemplo un valor entero mayor que 0 y menor que 10, y no puede ser un cuadro que ya esté ocupado;\n",
    "- el programa verifica si el juego ha terminado - existen cuatro posibles veredictos: el juego continua, el juego termina en empate, tu ganas, o la maquina gana;\n",
    "- la maquina responde con su movimiento y se verifica el estado del juego;\n",
    "no se debe implementar algún tipo de inteligencia artificial - la maquina elegirá un cuadro de manera aleatoria, eso es suficiente para este juego."
   ]
  },
  {
   "cell_type": "markdown",
   "metadata": {},
   "source": [
    "El ejemplo del programa es el siguiente:"
   ]
  },
  {
   "cell_type": "code",
   "execution_count": 1,
   "metadata": {},
   "outputs": [
    {
     "name": "stdout",
     "output_type": "stream",
     "text": [
      "6\n",
      "4\n",
      "6\n",
      "6\n",
      "6\n",
      "1\n",
      "7\n",
      "0\n",
      "4\n",
      "4\n"
     ]
    }
   ],
   "source": [
    "from random import randrange\n",
    "\n",
    "def display_board(board):\n",
    "    for i in range(3):\n",
    "    print(\"+-------\" * 3,\"+\",sep=\"\")\n",
    "    for i in range(3):\n",
    "        print(\"|       \" * 3,\"|\", sep=\"\")\n",
    "    print(\"+-------\" * 3,\"+\",sep=\"\")\n",
    "\n",
    "def enter_move(board):\n",
    "    # La función acepta el estado actual del tablero y pregunta al usuario acerca de su movimiento,  \n",
    "    # verifica la entrada y actualiza el tablero acorde a la decisión del usuario.\n",
    "\n",
    "\n",
    "def make_list_of_free_fields(board):\n",
    "    # La función examina el tablero y construye una lista de todos los cuadros vacíos. \n",
    "    # La lista esta compuesta por tuplas, cada tupla es un par de números que indican la fila y columna.\n",
    "\n",
    "\n",
    "def victory_for(board, sign):\n",
    "    # La función analiza el estatus del tablero para verificar si \n",
    "    # el jugador que utiliza las 'O's o las 'X's ha ganado el juego.\n",
    "\n",
    "\n",
    "def draw_move(board):\n",
    "    # La función dibuja el movimiento de la máquina y actualiza el tablero.\n",
    "    \n",
    "class TicTacToe(object):\n",
    "    def __init__(self):\n",
    "        self.board =  [ [3 * j + i + 1 for i in range(3)] for j in range(3) ]"
   ]
  },
  {
   "cell_type": "code",
   "execution_count": 83,
   "metadata": {},
   "outputs": [
    {
     "name": "stdout",
     "output_type": "stream",
     "text": [
      "+-------+-------+-------+\n",
      "|       |       |       |\n",
      "|   1   |   2   |   3   |\n",
      "|       |       |       |\n",
      "+-------+-------+-------+\n",
      "|       |       |       |\n",
      "|   4   |   5   |   6   |\n",
      "|       |       |       |\n",
      "+-------+-------+-------+\n",
      "|       |       |       |\n",
      "|   7   |   8   |   9   |\n",
      "|       |       |       |\n",
      "+-------+-------+-------+\n"
     ]
    }
   ],
   "source": [
    "class TicTacToe(object):\n",
    "    def __init__(self):\n",
    "        self.board =  [ [3 * j + i + 1 for i in range(3)] for j in range(3) ]\n",
    "    def display_board(self):\n",
    "        print(\"+-------\" * 3,\"+\",sep=\"\")\n",
    "        for i in range(3):\n",
    "            print(\"|       \" * 3,\"|\", sep=\"\")\n",
    "            for j in range(3):\n",
    "                print(\"|   \" + str(self.board[i][j]) + \"   \", end = \"\")\n",
    "            print(\"|\")\n",
    "            print(\"|       \" * 3,\"|\", sep=\"\")\n",
    "            print(\"+-------\" * 3,\"+\",sep=\"\")\n",
    "        \n",
    "            \n",
    "\n",
    "        \n",
    "juego = TicTacToe()\n",
    "juego.display_board()"
   ]
  },
  {
   "cell_type": "code",
   "execution_count": 60,
   "metadata": {},
   "outputs": [
    {
     "name": "stdout",
     "output_type": "stream",
     "text": [
      "+-------+-------+-------+\n",
      "|       |       |       |\n",
      "|       |       |       |\n",
      "|       |       |       |\n",
      "+-------+-------+-------+\n",
      "+-------+-------+-------+\n",
      "|       |       |       |\n",
      "|       |       |       |\n",
      "|       |       |       |\n",
      "+-------+-------+-------+\n",
      "+-------+-------+-------+\n",
      "|       |       |       |\n",
      "|       |       |       |\n",
      "|       |       |       |\n",
      "+-------+-------+-------+\n"
     ]
    }
   ],
   "source": [
    "for i in range(3):\n",
    "    print(\"+-------\" * 3,\"+\",sep=\"\")\n",
    "    for i in range(3):\n",
    "        print(\"|       \" * 3,\"|\", sep=\"\")\n",
    "    print(\"+-------\" * 3,\"+\",sep=\"\")"
   ]
  },
  {
   "cell_type": "code",
   "execution_count": 3,
   "metadata": {},
   "outputs": [
    {
     "name": "stdout",
     "output_type": "stream",
     "text": [
      "|       |       |       |\n",
      "|\n",
      "|       |       |       |\n",
      "+-------+-------+-------+\n",
      "|       |       |       |\n",
      "|\n",
      "|       |       |       |\n",
      "+-------+-------+-------+\n",
      "|       |       |       |\n",
      "|\n",
      "|       |       |       |\n",
      "+-------+-------+-------+\n"
     ]
    }
   ],
   "source": [
    "for row in range(3):\n",
    "\t\tprint(\"|       \" * 3,\"|\", sep=\"\")\n",
    "\t\tfor col in range(3):\n",
    "\t\t\tprint(\"|   \" + str(board[row][col]) + \"   \", end=\"\")\n",
    "\t\tprint(\"|\")\n",
    "\t\tprint(\"|       \" * 3,\"|\",sep=\"\")\n",
    "\t\tprint(\"+-------\" * 3,\"+\",sep=\"\")"
   ]
  },
  {
   "cell_type": "code",
   "execution_count": 7,
   "metadata": {},
   "outputs": [
    {
     "name": "stdout",
     "output_type": "stream",
     "text": [
      "+-------+-------+------- +\n"
     ]
    }
   ],
   "source": [
    "print(\"+-------\" * 3,\"+\",sep=\"\")"
   ]
  },
  {
   "cell_type": "code",
   "execution_count": 17,
   "metadata": {},
   "outputs": [],
   "source": [
    "board = [ [3 * j + i + 1 for i in range(3)] for j in range(3) ]\n",
    "print(board)"
   ]
  },
  {
   "cell_type": "code",
   "execution_count": 18,
   "metadata": {},
   "outputs": [
    {
     "data": {
      "text/plain": [
       "[[1, 2, 3], [4, 5, 6], [7, 8, 9]]"
      ]
     },
     "execution_count": 18,
     "metadata": {},
     "output_type": "execute_result"
    }
   ],
   "source": [
    "board"
   ]
  }
 ],
 "metadata": {
  "kernelspec": {
   "display_name": "Python 3",
   "language": "python",
   "name": "python3"
  },
  "language_info": {
   "codemirror_mode": {
    "name": "ipython",
    "version": 3
   },
   "file_extension": ".py",
   "mimetype": "text/x-python",
   "name": "python",
   "nbconvert_exporter": "python",
   "pygments_lexer": "ipython3",
   "version": "3.11.0"
  }
 },
 "nbformat": 4,
 "nbformat_minor": 2
}
